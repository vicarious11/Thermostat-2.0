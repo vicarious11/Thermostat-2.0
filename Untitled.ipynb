{
 "cells": [
  {
   "cell_type": "markdown",
   "metadata": {},
   "source": [
    "Thermostat 2.0 : Simulation on previous year SSH data \n",
    "1. To test performance of new Thermostat 2.0 on previous Thermostat execution in AHU's. Different configurations will be fed to test the performance of current design.\n",
    "2. For simulating on the previous dataset, we will have to assume a particular rate of error correction on the area temperature for change in actuator position while simulating the new outputs given by the new Thermostat."
   ]
  },
  {
   "cell_type": "code",
   "execution_count": 2,
   "metadata": {},
   "outputs": [],
   "source": [
    "import ab\n",
    "import pandas as pd\n",
    "import matplotlib\n",
    "from matplotlib import pyplot as plt\n",
    "import seaborn as sns"
   ]
  },
  {
   "cell_type": "code",
   "execution_count": 3,
   "metadata": {},
   "outputs": [],
   "source": [
    "parameterConfig = {\"actionableMax\": 95, \"actionableMin\": 60,\"controlSpeed\": 1, \"timeToAchieveSetpoint\": 60,\"degreeOfFreedom\": 5,\"setpoint\": 25,\"controllerDirection\": 1, \"sampleTime\": 2}"
   ]
  },
  {
   "cell_type": "code",
   "execution_count": 4,
   "metadata": {},
   "outputs": [],
   "source": [
    "data = pd.read_csv(\"PID-Info-2018-08-11.csv\")"
   ]
  },
  {
   "cell_type": "code",
   "execution_count": 5,
   "metadata": {},
   "outputs": [
    {
     "data": {
      "text/html": [
       "<div>\n",
       "<style scoped>\n",
       "    .dataframe tbody tr th:only-of-type {\n",
       "        vertical-align: middle;\n",
       "    }\n",
       "\n",
       "    .dataframe tbody tr th {\n",
       "        vertical-align: top;\n",
       "    }\n",
       "\n",
       "    .dataframe thead th {\n",
       "        text-align: right;\n",
       "    }\n",
       "</style>\n",
       "<table border=\"1\" class=\"dataframe\">\n",
       "  <thead>\n",
       "    <tr style=\"text-align: right;\">\n",
       "      <th></th>\n",
       "      <th>TIME STAMP</th>\n",
       "      <th>SET POINT</th>\n",
       "      <th>OFFSET</th>\n",
       "      <th>MISSING DATA POINTS</th>\n",
       "      <th>AREA TEMPERATURE</th>\n",
       "      <th>AHU OPERATIONAL STATUS</th>\n",
       "      <th>ACTUATOR OUTPUT</th>\n",
       "      <th>ACTUATOR FEEDBACK</th>\n",
       "      <th>VFD OUTPUT</th>\n",
       "      <th>VFD FEEDBACK</th>\n",
       "    </tr>\n",
       "  </thead>\n",
       "  <tbody>\n",
       "    <tr>\n",
       "      <th>0</th>\n",
       "      <td>2018-08-11 00:00:06</td>\n",
       "      <td>24.5</td>\n",
       "      <td>0.5</td>\n",
       "      <td>0</td>\n",
       "      <td>24.83</td>\n",
       "      <td>on</td>\n",
       "      <td>10</td>\n",
       "      <td>11</td>\n",
       "      <td>33</td>\n",
       "      <td>33.0</td>\n",
       "    </tr>\n",
       "    <tr>\n",
       "      <th>1</th>\n",
       "      <td>2018-08-11 00:01:08</td>\n",
       "      <td>24.5</td>\n",
       "      <td>0.5</td>\n",
       "      <td>0</td>\n",
       "      <td>24.84</td>\n",
       "      <td>on</td>\n",
       "      <td>10</td>\n",
       "      <td>10</td>\n",
       "      <td>33</td>\n",
       "      <td>33.0</td>\n",
       "    </tr>\n",
       "    <tr>\n",
       "      <th>2</th>\n",
       "      <td>2018-08-11 00:02:10</td>\n",
       "      <td>24.5</td>\n",
       "      <td>0.5</td>\n",
       "      <td>0</td>\n",
       "      <td>24.84</td>\n",
       "      <td>on</td>\n",
       "      <td>10</td>\n",
       "      <td>11</td>\n",
       "      <td>33</td>\n",
       "      <td>33.0</td>\n",
       "    </tr>\n",
       "    <tr>\n",
       "      <th>3</th>\n",
       "      <td>2018-08-11 00:03:12</td>\n",
       "      <td>24.5</td>\n",
       "      <td>0.5</td>\n",
       "      <td>0</td>\n",
       "      <td>24.86</td>\n",
       "      <td>on</td>\n",
       "      <td>10</td>\n",
       "      <td>11</td>\n",
       "      <td>33</td>\n",
       "      <td>33.0</td>\n",
       "    </tr>\n",
       "    <tr>\n",
       "      <th>4</th>\n",
       "      <td>2018-08-11 00:04:15</td>\n",
       "      <td>24.5</td>\n",
       "      <td>0.5</td>\n",
       "      <td>0</td>\n",
       "      <td>24.84</td>\n",
       "      <td>on</td>\n",
       "      <td>10</td>\n",
       "      <td>11</td>\n",
       "      <td>33</td>\n",
       "      <td>33.0</td>\n",
       "    </tr>\n",
       "  </tbody>\n",
       "</table>\n",
       "</div>"
      ],
      "text/plain": [
       "            TIME STAMP  SET POINT  OFFSET  MISSING DATA POINTS  \\\n",
       "0  2018-08-11 00:00:06       24.5     0.5                    0   \n",
       "1  2018-08-11 00:01:08       24.5     0.5                    0   \n",
       "2  2018-08-11 00:02:10       24.5     0.5                    0   \n",
       "3  2018-08-11 00:03:12       24.5     0.5                    0   \n",
       "4  2018-08-11 00:04:15       24.5     0.5                    0   \n",
       "\n",
       "   AREA TEMPERATURE AHU OPERATIONAL STATUS  ACTUATOR OUTPUT  \\\n",
       "0             24.83                     on               10   \n",
       "1             24.84                     on               10   \n",
       "2             24.84                     on               10   \n",
       "3             24.86                     on               10   \n",
       "4             24.84                     on               10   \n",
       "\n",
       "   ACTUATOR FEEDBACK  VFD OUTPUT  VFD FEEDBACK  \n",
       "0                 11          33          33.0  \n",
       "1                 10          33          33.0  \n",
       "2                 11          33          33.0  \n",
       "3                 11          33          33.0  \n",
       "4                 11          33          33.0  "
      ]
     },
     "execution_count": 5,
     "metadata": {},
     "output_type": "execute_result"
    }
   ],
   "source": [
    "data.head()"
   ]
  },
  {
   "cell_type": "code",
   "execution_count": 21,
   "metadata": {},
   "outputs": [
    {
     "data": {
      "text/html": [
       "<div>\n",
       "<style scoped>\n",
       "    .dataframe tbody tr th:only-of-type {\n",
       "        vertical-align: middle;\n",
       "    }\n",
       "\n",
       "    .dataframe tbody tr th {\n",
       "        vertical-align: top;\n",
       "    }\n",
       "\n",
       "    .dataframe thead th {\n",
       "        text-align: right;\n",
       "    }\n",
       "</style>\n",
       "<table border=\"1\" class=\"dataframe\">\n",
       "  <thead>\n",
       "    <tr style=\"text-align: right;\">\n",
       "      <th></th>\n",
       "      <th>TIME STAMP</th>\n",
       "      <th>SET POINT</th>\n",
       "      <th>OFFSET</th>\n",
       "      <th>MISSING DATA POINTS</th>\n",
       "      <th>AREA TEMPERATURE</th>\n",
       "      <th>AHU OPERATIONAL STATUS</th>\n",
       "      <th>ACTUATOR OUTPUT</th>\n",
       "      <th>ACTUATOR FEEDBACK</th>\n",
       "      <th>VFD OUTPUT</th>\n",
       "      <th>VFD FEEDBACK</th>\n",
       "    </tr>\n",
       "  </thead>\n",
       "  <tbody>\n",
       "    <tr>\n",
       "      <th>17</th>\n",
       "      <td>2018-08-11 00:17:42</td>\n",
       "      <td>24.5</td>\n",
       "      <td>0.5</td>\n",
       "      <td>0</td>\n",
       "      <td>25.04</td>\n",
       "      <td>on</td>\n",
       "      <td>67</td>\n",
       "      <td>68</td>\n",
       "      <td>43</td>\n",
       "      <td>42.0</td>\n",
       "    </tr>\n",
       "    <tr>\n",
       "      <th>18</th>\n",
       "      <td>2018-08-11 00:18:44</td>\n",
       "      <td>24.5</td>\n",
       "      <td>0.5</td>\n",
       "      <td>0</td>\n",
       "      <td>24.99</td>\n",
       "      <td>on</td>\n",
       "      <td>68</td>\n",
       "      <td>68</td>\n",
       "      <td>43</td>\n",
       "      <td>43.0</td>\n",
       "    </tr>\n",
       "    <tr>\n",
       "      <th>19</th>\n",
       "      <td>2018-08-11 00:19:46</td>\n",
       "      <td>24.5</td>\n",
       "      <td>0.5</td>\n",
       "      <td>0</td>\n",
       "      <td>24.92</td>\n",
       "      <td>on</td>\n",
       "      <td>69</td>\n",
       "      <td>70</td>\n",
       "      <td>44</td>\n",
       "      <td>43.0</td>\n",
       "    </tr>\n",
       "    <tr>\n",
       "      <th>20</th>\n",
       "      <td>2018-08-11 00:20:49</td>\n",
       "      <td>24.5</td>\n",
       "      <td>0.5</td>\n",
       "      <td>0</td>\n",
       "      <td>24.84</td>\n",
       "      <td>on</td>\n",
       "      <td>69</td>\n",
       "      <td>71</td>\n",
       "      <td>44</td>\n",
       "      <td>44.0</td>\n",
       "    </tr>\n",
       "    <tr>\n",
       "      <th>21</th>\n",
       "      <td>2018-08-11 00:21:51</td>\n",
       "      <td>24.5</td>\n",
       "      <td>0.5</td>\n",
       "      <td>0</td>\n",
       "      <td>24.75</td>\n",
       "      <td>on</td>\n",
       "      <td>69</td>\n",
       "      <td>71</td>\n",
       "      <td>44</td>\n",
       "      <td>44.0</td>\n",
       "    </tr>\n",
       "  </tbody>\n",
       "</table>\n",
       "</div>"
      ],
      "text/plain": [
       "             TIME STAMP  SET POINT  OFFSET  MISSING DATA POINTS  \\\n",
       "17  2018-08-11 00:17:42       24.5     0.5                    0   \n",
       "18  2018-08-11 00:18:44       24.5     0.5                    0   \n",
       "19  2018-08-11 00:19:46       24.5     0.5                    0   \n",
       "20  2018-08-11 00:20:49       24.5     0.5                    0   \n",
       "21  2018-08-11 00:21:51       24.5     0.5                    0   \n",
       "\n",
       "    AREA TEMPERATURE AHU OPERATIONAL STATUS  ACTUATOR OUTPUT  \\\n",
       "17             25.04                     on               67   \n",
       "18             24.99                     on               68   \n",
       "19             24.92                     on               69   \n",
       "20             24.84                     on               69   \n",
       "21             24.75                     on               69   \n",
       "\n",
       "    ACTUATOR FEEDBACK  VFD OUTPUT  VFD FEEDBACK  \n",
       "17                 68          43          42.0  \n",
       "18                 68          43          43.0  \n",
       "19                 70          44          43.0  \n",
       "20                 71          44          44.0  \n",
       "21                 71          44          44.0  "
      ]
     },
     "execution_count": 21,
     "metadata": {},
     "output_type": "execute_result"
    }
   ],
   "source": [
    "data = data.drop(data[(data['AHU OPERATIONAL STATUS'] == 'off') | (data['ACTUATOR OUTPUT'] < 50) | (data['ACTUATOR FEEDBACK'] < 50)].index)\n",
    "data.head()\n",
    "#data = data.drop(data[data['AHU OPERATIONAL STATUS'] == 'off'].index)\n",
    "    "
   ]
  },
  {
   "cell_type": "code",
   "execution_count": 22,
   "metadata": {},
   "outputs": [
    {
     "data": {
      "text/plain": [
       "TIME STAMP                 object\n",
       "SET POINT                 float64\n",
       "OFFSET                    float64\n",
       "MISSING DATA POINTS         int64\n",
       "AREA TEMPERATURE          float64\n",
       "AHU OPERATIONAL STATUS     object\n",
       "ACTUATOR OUTPUT             int64\n",
       "ACTUATOR FEEDBACK           int64\n",
       "VFD OUTPUT                  int64\n",
       "VFD FEEDBACK              float64\n",
       "dtype: object"
      ]
     },
     "execution_count": 22,
     "metadata": {},
     "output_type": "execute_result"
    }
   ],
   "source": [
    "data.dtypes"
   ]
  },
  {
   "cell_type": "code",
   "execution_count": 23,
   "metadata": {},
   "outputs": [
    {
     "data": {
      "image/png": "[encoded data removed]",
      "text/plain": [
       "<Figure size 432x288 with 1 Axes>"
      ]
     },
     "metadata": {
      "needs_background": "light"
     },
     "output_type": "display_data"
    }
   ],
   "source": [
    "ax = data.plot(x = 'TIME STAMP', y=['AREA TEMPERATURE','ACTUATOR OUTPUT', 'VFD OUTPUT'])"
   ]
  },
  {
   "cell_type": "code",
   "execution_count": 40,
   "metadata": {},
   "outputs": [
    {
     "data": {
      "text/plain": [
       "17       NaN\n",
       "18     -0.05\n",
       "19       NaN\n",
       "20     -0.08\n",
       "21     -0.09\n",
       "22     -0.12\n",
       "23     -0.07\n",
       "24     -0.11\n",
       "25     -0.08\n",
       "26     -0.09\n",
       "27     -0.80\n",
       "28     -0.07\n",
       "29     -0.06\n",
       "75      1.00\n",
       "76     -0.03\n",
       "77      0.71\n",
       "78     -0.20\n",
       "79     -0.06\n",
       "80     -0.10\n",
       "81     -0.07\n",
       "82     -0.10\n",
       "83     -0.09\n",
       "84     -0.08\n",
       "85     -0.86\n",
       "86     -0.07\n",
       "87     -0.05\n",
       "144     0.96\n",
       "145    -0.05\n",
       "146    -0.09\n",
       "147     0.50\n",
       "        ... \n",
       "1281   -0.01\n",
       "1282   -0.04\n",
       "1283   -0.04\n",
       "1284    0.00\n",
       "1285    0.06\n",
       "1286    0.01\n",
       "1287   -0.04\n",
       "1288   -0.05\n",
       "1289   -0.10\n",
       "1290   -0.10\n",
       "1291   -2.11\n",
       "1292   -0.01\n",
       "1293    0.07\n",
       "1294    0.02\n",
       "1295    0.01\n",
       "1296   -0.02\n",
       "1297    0.03\n",
       "1298    0.05\n",
       "1355    1.87\n",
       "1356    1.80\n",
       "1357   -0.09\n",
       "1358   -0.14\n",
       "1359   -0.12\n",
       "1360   -0.14\n",
       "1361   -0.09\n",
       "1362   -0.11\n",
       "1363   -0.07\n",
       "1364   -0.06\n",
       "1365   -0.02\n",
       "1366   -0.01\n",
       "Name: AREA TEMPERATURE, Length: 456, dtype: float64"
      ]
     },
     "execution_count": 40,
     "metadata": {},
     "output_type": "execute_result"
    }
   ],
   "source": [
    "df = data.groupby('VFD OUTPUT')['AREA TEMPERATURE'].diff()\n",
    "df"
   ]
  },
  {
   "cell_type": "code",
   "execution_count": null,
   "metadata": {},
   "outputs": [],
   "source": []
  },
  {
   "cell_type": "code",
   "execution_count": null,
   "metadata": {},
   "outputs": [],
   "source": []
  }
 ],
 "metadata": {
  "kernelspec": {
   "display_name": "Python 3",
   "language": "python",
   "name": "python3"
  },
  "language_info": {
   "codemirror_mode": {
    "name": "ipython",
    "version": 3
   },
   "file_extension": ".py",
   "mimetype": "text/x-python",
   "name": "python",
   "nbconvert_exporter": "python",
   "pygments_lexer": "ipython3",
   "version": "3.7.1"
  }
 },
 "nbformat": 4,
 "nbformat_minor": 2
}
